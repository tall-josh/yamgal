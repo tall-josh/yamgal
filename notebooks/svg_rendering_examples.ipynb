{
 "cells": [
  {
   "cell_type": "code",
   "execution_count": null,
   "metadata": {},
   "outputs": [],
   "source": [
    "import yaml\n",
    "from pathlib import Path\n",
    "from tempfile import mkdtemp\n",
    "from yamgal.make_chart import make_chart\n",
    "\n",
    "def load_yaml(path):\n",
    "    with Path(path).open('r') as f:\n",
    "        data = yaml.safe_load(f)\n",
    "    return data\n",
    "\n",
    "TEMP_YAML = Path(mkdtemp()) / \"chart.yaml\""
   ]
  },
  {
   "cell_type": "code",
   "execution_count": null,
   "metadata": {},
   "outputs": [],
   "source": [
    "%%writefile {TEMP_YAML}\n",
    "chart_type: Line # Required (Line|StackedLine| ... todo)\n",
    "title: Train Accuracy  # Default ''\n",
    "\n",
    "# Draw the line (True), Only draw a dot (False)\n",
    "stroke: True     # Default True\n",
    "\n",
    "dots: False     # Default True\n",
    "\n",
    "dot_size: 2     # Default 1 I think\n",
    "\n",
    "# Fill below line\n",
    "fill: True       # Default False  # Does not work with multiple lines\n",
    "\n",
    "# Set reference line to fill too\n",
    "zero: 0.3            # Default 0\n",
    "\n",
    "x_title: Epoch    # Default ''\n",
    "y_title: Accuracy # Defaule ''\n",
    "\n",
    "x_labels: [a,b,c,d,e,f,g] # Default 1,2,3 ..\n",
    "\n",
    "#y_labels: [a,b,c,d,e,f,g,h,i] # Default Infer from data\n",
    "\n",
    "# 0 is horizontal, - is cw, + ccw\n",
    "x_label_rotation: 20  # Default 0\n",
    "y_label_rotation: 0   # Default 0\n",
    "\n",
    "# Valid values: (cubic|quadratic|lagrange|trigonometric|hermite)\n",
    "interpolate: cubic # Default None (linear)\n",
    "\n",
    "style: ~ # TODO: http://www.pygal.org/en/stable/documentation/configuration/rendering.html#style \n",
    "data:\n",
    "    run-01:\n",
    "        - 0.1959999918937683\n",
    "        - 0.1069999814033508\n",
    "        - 0.1539999723434448\n",
    "        - 0.1889999985694885\n",
    "        - 0.1999999761581421\n",
    "        - 0.1160000085830688\n",
    "        - 0.1340000152587891\n",
    "    run-02:\n",
    "        - 0.2959999918937683\n",
    "        - 0.2069999814033508\n",
    "        - 0.2539999723434448\n",
    "        - 0.2889999985694885\n",
    "        - 0.2999999761581421\n",
    "        - 0.2160000085830688\n",
    "        - 0.2340000152587891\n",
    "    run-03:\n",
    "        - 0.3959999918937683\n",
    "        - 0.3069999814033508\n",
    "        - 0.3539999723434448\n",
    "        - 0.3889999985694885\n",
    "        - 0.3999999761581421\n",
    "        - 0.3160000085830688\n",
    "        - 0.3340000152587891\n",
    "    run-04:\n",
    "        - 0.4959999918937683\n",
    "        - 0.4069999814033508\n",
    "        - 0.4539999723434448\n",
    "        - 0.4889999985694885\n",
    "        - 0.4999999761581421\n",
    "        - 0.4160000085830688\n",
    "        - 0.4340000152587891\n",
    "    run-05:\n",
    "        - 0.5959999918937683\n",
    "        - 0.5069999814033508\n",
    "        - 0.5539999723434448\n",
    "        - 0.5889999985694885\n",
    "        - 0.5999999761581421\n",
    "        - 0.5160000085830688\n",
    "        - 0.5340000152587891\n",
    "    run-06:\n",
    "        - 0.6959999918937683\n",
    "        - 0.6069999814033508\n",
    "        - 0.6539999723434448\n",
    "        - 0.6889999985694885\n",
    "        - 0.6999999761581421\n",
    "        - 0.6160000085830688\n",
    "        - 0.6340000152587891"
   ]
  },
  {
   "cell_type": "code",
   "execution_count": null,
   "metadata": {},
   "outputs": [],
   "source": [
    "!cat {TEMP_YAML}"
   ]
  },
  {
   "cell_type": "code",
   "execution_count": null,
   "metadata": {},
   "outputs": [],
   "source": [
    "data = load_yaml(TEMP_YAML)\n",
    "make_chart(data)"
   ]
  },
  {
   "cell_type": "markdown",
   "metadata": {},
   "source": [
    "```\n",
    "https://github.com/tall-josh/yamgal/blob/master/examples/lines-01.yaml\n",
    "![test](http://yamgal.com/public/github/tall-josh/yamgal/blob/master/examples/lines-01.yaml)\n",
    "\n",
    "https://gitlab.com/silverpond/research/dvc-jupyter-project-example-demo/-/blob/master/artefacts/metrics/lines-01.yaml\n",
    "![test](http://yamgal.com/gitlab/silverpond/tall-josh/research/dvc-jupyter-project-example-demo/-/blob/master/artefacts/metrics/lines-01.yaml)\n",
    "\n",
    "https://bitbucket.org/chedanalytics/dvc-jupyter-project-example-demo/src/master/artefacts/metrics/.gitignore\n",
    "![test](http://yamgal.com/bitbucket/chedanalytics/tall-josh/research/dvc-jupyter-project-example-demo/-/blob/master/artefacts/metrics/lines-01.yaml)\n",
    "\n",
    "```"
   ]
  },
  {
   "cell_type": "markdown",
   "metadata": {},
   "source": [
    "![test](http://127.0.0.1:5000/get-chart/tall-josh/yamgal/master/examples/lines-01.yaml?dsdfdsfjdv)"
   ]
  },
  {
   "cell_type": "code",
   "execution_count": null,
   "metadata": {},
   "outputs": [],
   "source": [
    "x = ['M  test1/metrics.yaml',\n",
    "     'M  test1/metrics.yml',\n",
    "     '?? .ipynb_checkpoints/',\n",
    "     '?? README.md.ori',\n",
    "     '?? Untitled.ipynb',\n",
    "     '?? poop.py', '?? qwe',\n",
    "     '']\n",
    "[s[3:] for s in x if len(s) > 0 and s[0] in ('M', 'A', 'R')]"
   ]
  },
  {
   "cell_type": "code",
   "execution_count": null,
   "metadata": {},
   "outputs": [],
   "source": [
    "from urllib.parse import urlparse"
   ]
  },
  {
   "cell_type": "code",
   "execution_count": null,
   "metadata": {},
   "outputs": [],
   "source": []
  }
 ],
 "metadata": {
  "kernelspec": {
   "display_name": "Python 3",
   "language": "python",
   "name": "python3"
  },
  "language_info": {
   "codemirror_mode": {
    "name": "ipython",
    "version": 3
   },
   "file_extension": ".py",
   "mimetype": "text/x-python",
   "name": "python",
   "nbconvert_exporter": "python",
   "pygments_lexer": "ipython3",
   "version": "3.7.6"
  }
 },
 "nbformat": 4,
 "nbformat_minor": 4
}
