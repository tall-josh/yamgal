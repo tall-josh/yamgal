{
 "cells": [
  {
   "cell_type": "markdown",
   "metadata": {},
   "source": [
    "# Yaml --> Pygal ... Yamgal\n",
    "\n",
    "The ultimate goal for this is to emulate the GitHub Shield's functionality \n",
    "but for simple charts.\n",
    "\n",
    "# Usage\n",
    "\n",
    "`![demo](https://yamlgal-py3-alpine-c6l3dwv2sq-de.a.run.app/TYPE/DATA/OPTIONAL_CONFIG)`\n",
    "\n",
    "Where:\n",
    "  - **TYPE**: `line | bar | pie | donut | stackedbar | stackedline | xy | histogram` Case insensitive\n",
    "  - **DATA**: Key:Value pairs separated by ';'. No spaces.\n",
    "  ie: `one:[1,2,3];two:[5,6,7]` or some charts, like histogram take lists of lists charts `one:[[<height>,<x_start>,<x_end>],[...]]` see [Pyagl docs](http://www.pygal.org/en/stable/documentation/types/histogram.html)\n",
    "  - **OPTIONAL_CONFIG**: Also Key:Value pairs. All options availiable to Pygal charts are availaible. Including by not limited to:\n",
    "    - `title` (str): No spaces. Case is preserved) Default=None\n",
    "    - `width` (int): Default=pretty big\n",
    "    - `height` (int): Default=pretty big\n",
    "    - `stroke` (True | False): Wether to draw a line between points. Default=True\n",
    "    - `dots` (True | False): Wether to draw points. Default=True\n",
    "    - `dot_size` (int): Default=2...ish\n",
    "    - `fill` (True | False): Fill below the line down to zero. Default=False\n",
    "    - `zero` (float): set reference to fill down to. Default=0\n",
    "    - `x_title` (str): No spaces. Case is preserved) Default=None\n",
    "    - `y_title` (str): No spaces. Case is preserved) Default=None\n",
    "    - `x_label_rotation` (float):  0 is horazontal, - is cw, + ccw. Default=0\n",
    "    - `y_label_rotation` (float):  0 is horazontal, - is cw, + ccw. Default=0\n",
    "    - `interpolate` (`cubic` | `quadratic` | `lagrange` | `trigonometric` | `hermite`) Default=`linear`\n",
    "    - `style` (`blue` | `clean` | `dark_colorized` | `dark_green_blue` | `dark_green` | `dark_solarized` | `dark` | `default` | `light_colorized` | `light_green` | `light_solarized` | `light` | `neon` | `red_blue` | `turquoise`)\n",
    "    \n"
   ]
  },
  {
   "cell_type": "markdown",
   "metadata": {},
   "source": [
    "## Simple Line Chart\n",
    "\n",
    "First there is no configuration. Just a simple bare bones example to get started.\n",
    "\n",
    "**Note**:\n",
    "\n",
    "  - Each series in the data is a `key:value` pair separated a `;`\n",
    "  - Think of the `;` as a _new line_ and the data is kind of like an _inline_ yaml definition. (Spoiler alert! Under the hood, converting to yaml is pretty much all this does :-p)\n",
    "\n",
    "\n",
    "`![demo](https://yamlgal-py3-alpine-c6l3dwv2sq-de.a.run.app/line/one:[1,2,3];two:[5,6,7])`\n",
    "\n",
    "![demo](https://yamlgal-py3-alpine-c6l3dwv2sq-de.a.run.app/line/one:[1,2,3];two:[5,6,7])\n"
   ]
  },
  {
   "cell_type": "markdown",
   "metadata": {},
   "source": [
    "## Adding Some Basic Config\n",
    "\n",
    "To be honest all the config is basic, it's just knowing words to use. Here we change the style to `dark` and add titles to the x and y axies.\n",
    "\n",
    "**Note**\n",
    "\n",
    "  - To add spaces in text strings use `_`. They are swapped out for ` ` when the chart is generated.\n",
    "  - If you want `_`'s in your strings...TOUGH LUCK :-(\n",
    "\n",
    "`![demo](https://yamlgal-py3-alpine-c6l3dwv2sq-de.a.run.app/line/one:[1,2,3];two:[5,6,7]/y_title:Ooooo;x_title:Ahhhh;title:Cool_Chart;style:dark)`\n",
    "\n",
    "![demo](https://yamlgal-py3-alpine-c6l3dwv2sq-de.a.run.app/line/one:[1,2,3];two:[5,6,7]/y_title:Ooooo;x_title:Ahhhh;title:Cool_Chart;style:dark)\n",
    "\n"
   ]
  },
  {
   "cell_type": "markdown",
   "metadata": {},
   "source": [
    "## Adding Some Mode Config\n",
    "\n",
    "To be honest all the config is basic, it's just knowing words to use. Here we change the style to `dark` and add titles to the x and y axies.\n",
    "\n",
    "**Note**\n",
    "\n",
    "  - If you add `x_labels` or `y_labels` you need to provide enough of they will just stop short. \n",
    "  - Similarly, if you add too many, I will allow you to, you chart will just look weird.\n",
    "\n",
    "`![demo](https://yamlgal-py3-alpine-c6l3dwv2sq-de.a.run.app/line/one:[1,2,3];two:[5,6,7]/y_title:Ooooo;x_title:Ahhhh;title:Cool_Chart;style:dark;x_labels:[this,axis,has,way,too,many,labels];y_labels:[Underscores_work_like_spaces,axis_has_too_few_but_look!,This];x_label_rotation:-30;y_label_rotation:30)\n",
    "`\n",
    "\n",
    "![demo](https://yamlgal-py3-alpine-c6l3dwv2sq-de.a.run.app/line/one:[1,2,3];two:[5,6,7]/y_title:Ooooo;x_title:Ahhhh;title:Cool_Chart;style:dark;x_labels:[this,axis,has,way,too,many,labels];y_labels:[Underscores_work_like_spaces,axis_has_too_few_but_look!,This];x_label_rotation:-30;y_label_rotation:30)\n",
    "\n"
   ]
  },
  {
   "cell_type": "markdown",
   "metadata": {},
   "source": [
    "## Interpolation\n",
    "\n",
    "\n",
    "`![demo](https://yamlgal-py3-alpine-c6l3dwv2sq-de.a.run.app/line/one:[1,2,1,2,3,4,5,4,5];two:[5,6,7,7,6,5,5,6,7,7,6,5,5,6]/y_title:Ooooo;x_title:Ahhhh;title:Cool_Chart;style:dark)`\n",
    "\n",
    "![demo](https://yamlgal-py3-alpine-c6l3dwv2sq-de.a.run.app/line/one:[1,2,1,2,3,4,5,4,5];two:[5,6,7,7,6,5,5,6,7,7,6,5,5,6]/y_title:Ooooo;x_title:Ahhhh;title:Cool_Chart;style:dark;interpolate:quadratic)"
   ]
  },
  {
   "cell_type": "markdown",
   "metadata": {},
   "source": [
    "## Fill\n",
    "\n",
    "Fill below lines to a reference.\n",
    "\n",
    "**Note**:\n",
    "\n",
    "  - We fill up or down to the reference set using the `zero` option. In this case `zero` = `3`\n",
    "\n",
    "\n",
    "`[demo](https://yamlgal-py3-alpine-c6l3dwv2sq-de.a.run.app/line/one:[1,2,1,2,3,4,5,4,5];two:[5,6,7,7,6,5,5,6,7,7,6,5,5,6]/y_title:Ooooo;x_title:Ahhhh;title:Cool_Chart;style:dark;interpolate:quadratic;fill:True;zero:3)`\n",
    "\n",
    "![demo](https://yamlgal-py3-alpine-c6l3dwv2sq-de.a.run.app/line/one:[1,2,1,2,3,4,5,4,5];two:[5,6,7,7,6,5,5,6,7,7,6,5,5,6]/y_title:Ooooo;x_title:Ahhhh;title:Cool_Chart;style:dark;interpolate:quadratic;fill:True;zero:3)"
   ]
  },
  {
   "cell_type": "markdown",
   "metadata": {},
   "source": [
    "## Stacked Line\n",
    "\n",
    "Change the TYPE from bar to stackedbar...ooOOoOoOoOoooo!!!!\n",
    "\n",
    "**Note**:\n",
    "\n",
    "  - Stacked_Lines_Are_Cumulative\n",
    "\n",
    "\n",
    "`![demo](https://yamlgal-py3-alpine-c6l3dwv2sq-de.a.run.app/stackedline/one:[1,1,1];two:[1,1,1,1,1,1,1]/y_title:Ooooo;x_title:Ahhhh;title:Stacked_Lines_Are_Cumulative;style:dark)`\n",
    "\n",
    "\n",
    "![demo](https://yamlgal-py3-alpine-c6l3dwv2sq-de.a.run.app/stackedline/one:[1,1,1];two:[1,1,1,1,1,1,1]/y_title:Ooooo;x_title:Ahhhh;title:Stacked_Lines_Are_Cumulative;style:dark)"
   ]
  },
  {
   "cell_type": "markdown",
   "metadata": {},
   "source": [
    "## Simple Pie Charts\n",
    "\n",
    "Simple Pie Charts take a single value for each segment. You know, like a Pie Chart...derr\n",
    "\n",
    "**Note**: \n",
    "\n",
    "  - You don't need all the numbers to add to 1.0. They are normalized when the chart is generated.\n",
    "\n",
    "`![demo](https://yamlgal-py3-alpine-c6l3dwv2sq-de.a.run.app/pie/one:0.1;two:0.2;three:0.3;four:0.4/style:neon;title:Pie_Chart)`\n",
    "\n",
    "![demo](https://yamlgal-py3-alpine-c6l3dwv2sq-de.a.run.app/pie/one:0.1;two:0.2;three:0.3;four:0.4/style:neon;title:Pie_Chart)\n"
   ]
  },
  {
   "cell_type": "markdown",
   "metadata": {},
   "source": [
    "## Multi Series Pie Chart\n",
    "\n",
    "Multi-Series Pie Charts take a list of values per segment.\n",
    "\n",
    "**Note**:\n",
    "\n",
    "  - Same normalization rules apply as with Simple Pie Charts\n",
    "\n",
    "`![demo](https://yamlgal-py3-alpine-c6l3dwv2sq-de.a.run.app/pie/one:[0.05,0.05];two:[0.1,0.05,0.05];three:[0.1,0.1,0.1];four:[0.2,0.1,0.05,0.05]/style:neon;title:Pie_Chart)`\n",
    "\n",
    "![demo](https://yamlgal-py3-alpine-c6l3dwv2sq-de.a.run.app/pie/one:[0.05,0.05];two:[0.1,0.05,0.05];three:[0.1,0.1,0.1];four:[0.2,0.1,0.05,0.05]/style:neon;title:Muiti_Series_Pie_Chart)"
   ]
  },
  {
   "cell_type": "markdown",
   "metadata": {},
   "source": [
    "## Half Pie Charts\n",
    "\n",
    "Both Mulit-Series and Simple Pie Charts support the half pie configuration option.\n",
    "\n",
    "`![demo](https://yamlgal-py3-alpine-c6l3dwv2sq-de.a.run.app/pie/one:[0.05,0.05];two:[0.1,0.05,0.05];three:[0.1,0.1,0.1];four:[0.2,0.1,0.05,0.05]/style:neon;title:Pie_Chart;half_pie:True)`\n",
    "\n",
    "![demo](https://yamlgal-py3-alpine-c6l3dwv2sq-de.a.run.app/pie/one:[0.05,0.05];two:[0.1,0.05,0.05];three:[0.1,0.1,0.1];four:[0.2,0.1,0.05,0.05]/style:neon;title:Muiti_Series_Half_Pie_Chart;half_pie:True)"
   ]
  },
  {
   "cell_type": "markdown",
   "metadata": {},
   "source": [
    "## Donut Pie Charts\n",
    "\n",
    "The bad news, only Simple Pie Charts support the `inner_radius` option. Good news is you can make a `half_pie` donut though.\n",
    "\n",
    "`![demo](https://yamlgal-py3-alpine-c6l3dwv2sq-de.a.run.app/pie/one:[0.05,0.05];two:[0.1,0.05,0.05];three:[0.1,0.1,0.1];four:[0.2,0.1,0.05,0.05]/style:neon;title:Pie_Chart;half_pie:True;inner_radius:0.4)`\n",
    "\n",
    "![demo](https://yamlgal-py3-alpine-c6l3dwv2sq-de.a.run.app/pie/one:1;two:2;three:3;four:4/style:neon;title:Pie_Chart;half_pie:True;inner_radius:0.7)"
   ]
  },
  {
   "cell_type": "markdown",
   "metadata": {},
   "source": [
    "# Simple Bar Chart\n",
    "\n",
    "You'll figure it out, you're a smart person.\n",
    "\n",
    "`![demo](https://yamlgal-py3-alpine-c6l3dwv2sq-de.a.run.app/bar/one:[1,2,1,2,3,4,5,4,5];two:[5,6,7,7,6,5,5,6,7,7,6,5,5,6]/y_title:Ooooo;x_title:Ahhhh;title:Bar_Chart;style:dark)`\n",
    "\n",
    "![demo](https://yamlgal-py3-alpine-c6l3dwv2sq-de.a.run.app/bar/one:[1,2,1,2,3,4,5,4,5];two:[5,6,7,7,6,5,5,6,7,7,6,5,5,6]/y_title:Ooooo;x_title:Ahhhh;title:Bar_Chart;style:dark)"
   ]
  },
  {
   "cell_type": "markdown",
   "metadata": {},
   "source": [
    "# Stacked Bar Chart\n",
    "\n",
    "Change the `TYPE` from `bar` to `stackedbar`...also ooOOoOoOoOoooo!!!!\n",
    "\n",
    "`![demo](https://yamlgal-py3-alpine-c6l3dwv2sq-de.a.run.app/stackedbar/one:[1,2,1,2,3,4,5,4,5];two:[5,6,7,7,6,5,5,6,7,7,6,5,5,6]/y_title:Ooooo;x_title:Ahhhh;title:Stacked_Bar_Chart;style:dark)`\n",
    "\n",
    "![demo](https://yamlgal-py3-alpine-c6l3dwv2sq-de.a.run.app/stackedbar/one:[1,2,1,2,3,4,5,4,5];two:[5,6,7,7,6,5,5,6,7,7,6,5,5,6]/y_title:Ooooo;x_title:Ahhhh;title:Stacked_Bar_Chart;style:dark)"
   ]
  },
  {
   "cell_type": "markdown",
   "metadata": {},
   "source": [
    "## You Get The Picture\n",
    "\n",
    "### Limitations\n",
    "\n",
    "  - The browser tends to cache the image so changes don't show up unless you\n",
    "    clear your cache and sometimes that doesn't even work. If you update the\n",
    "    name of the file each time a change is made that works, but THER NEEDS to\n",
    "    be a better way. **Potentially a githook that adds a `?<hash-of-yaml>` to\n",
    "    the end of the imageurls in the README**\n"
   ]
  },
  {
   "cell_type": "code",
   "execution_count": null,
   "metadata": {},
   "outputs": [],
   "source": []
  }
 ],
 "metadata": {
  "kernelspec": {
   "display_name": "Python 3",
   "language": "python",
   "name": "python3"
  },
  "language_info": {
   "codemirror_mode": {
    "name": "ipython",
    "version": 3
   },
   "file_extension": ".py",
   "mimetype": "text/x-python",
   "name": "python",
   "nbconvert_exporter": "python",
   "pygments_lexer": "ipython3",
   "version": "3.7.4"
  }
 },
 "nbformat": 4,
 "nbformat_minor": 2
}
